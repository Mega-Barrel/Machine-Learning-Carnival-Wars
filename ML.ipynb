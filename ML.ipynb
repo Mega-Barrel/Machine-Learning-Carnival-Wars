{
 "metadata": {
  "language_info": {
   "codemirror_mode": {
    "name": "ipython",
    "version": 3
   },
   "file_extension": ".py",
   "mimetype": "text/x-python",
   "name": "python",
   "nbconvert_exporter": "python",
   "pygments_lexer": "ipython3",
   "version": "3.8.5-final"
  },
  "orig_nbformat": 2,
  "kernelspec": {
   "name": "python3",
   "display_name": "Python 3"
  }
 },
 "nbformat": 4,
 "nbformat_minor": 2,
 "cells": [
  {
   "cell_type": "code",
   "execution_count": 2,
   "metadata": {},
   "outputs": [],
   "source": [
    "import numpy as np\n",
    "import pandas as pd"
   ]
  },
  {
   "cell_type": "code",
   "execution_count": 4,
   "metadata": {},
   "outputs": [],
   "source": [
    "train = pd.read_csv('final_dataset/train.csv')\n",
    "test = pd.read_csv('final_dataset/test.csv')"
   ]
  },
  {
   "cell_type": "code",
   "execution_count": 6,
   "metadata": {},
   "outputs": [
    {
     "output_type": "execute_result",
     "data": {
      "text/plain": [
       "Index(['Stall_no', 'Market_Category', 'Grade', 'Demand', 'Discount_avail',\n",
       "       'charges_1', 'charges_2 (%)', 'Minimum_price', 'Maximum_price',\n",
       "       'Selling_Price', 'month', 'year', 'day', 'loyality_customers',\n",
       "       'Product_Category_Cosmetics', 'Product_Category_Educational',\n",
       "       'Product_Category_Fashion', 'Product_Category_Home_decor',\n",
       "       'Product_Category_Hospitality', 'Product_Category_Organic',\n",
       "       'Product_Category_Pet_care', 'Product_Category_Repair',\n",
       "       'Product_Category_Technology'],\n",
       "      dtype='object')"
      ]
     },
     "metadata": {},
     "execution_count": 6
    }
   ],
   "source": [
    "train.columns"
   ]
  },
  {
   "cell_type": "code",
   "execution_count": 8,
   "metadata": {},
   "outputs": [],
   "source": [
    "X = train[['Stall_no', 'Market_Category', 'Grade', 'Demand', 'Discount_avail',\n",
    "       'charges_1', 'charges_2 (%)', 'Minimum_price', 'Maximum_price',\n",
    "       'month', 'year', 'day', 'loyality_customers',\n",
    "       'Product_Category_Cosmetics', 'Product_Category_Educational',\n",
    "       'Product_Category_Fashion', 'Product_Category_Home_decor',\n",
    "       'Product_Category_Hospitality', 'Product_Category_Organic',\n",
    "       'Product_Category_Pet_care', 'Product_Category_Repair',\n",
    "       'Product_Category_Technology']]\n",
    "\n",
    "y = train['Selling_Price']"
   ]
  },
  {
   "cell_type": "code",
   "execution_count": 10,
   "metadata": {},
   "outputs": [],
   "source": [
    "from sklearn.model_selection import train_test_split\n",
    "\n",
    "X_train, X_test, y_train, y_test = train_test_split(X, y, test_size=0.1, random_state=10)"
   ]
  },
  {
   "cell_type": "code",
   "execution_count": 12,
   "metadata": {},
   "outputs": [
    {
     "output_type": "stream",
     "name": "stderr",
     "text": [
      "[Parallel(n_jobs=1)]: Using backend SequentialBackend with 1 concurrent workers.\n",
      "[Parallel(n_jobs=1)]: Done 100 out of 100 | elapsed:    4.6s finished\n"
     ]
    },
    {
     "output_type": "execute_result",
     "data": {
      "text/plain": [
       "RandomForestRegressor(max_depth=15, random_state=0, verbose=1)"
      ]
     },
     "metadata": {},
     "execution_count": 12
    }
   ],
   "source": [
    "from sklearn.ensemble import RandomForestRegressor\n",
    "reg = RandomForestRegressor(max_depth = 15, random_state=0, n_estimators = 100,verbose = 1)\n",
    "reg.fit(X_train,y_train)"
   ]
  },
  {
   "cell_type": "code",
   "execution_count": 14,
   "metadata": {},
   "outputs": [
    {
     "output_type": "stream",
     "name": "stderr",
     "text": [
      "[Parallel(n_jobs=1)]: Using backend SequentialBackend with 1 concurrent workers.\n[Parallel(n_jobs=1)]: Done 100 out of 100 | elapsed:    0.1s finished\n"
     ]
    },
    {
     "output_type": "execute_result",
     "data": {
      "text/plain": [
       "0.996330144542303"
      ]
     },
     "metadata": {},
     "execution_count": 14
    }
   ],
   "source": [
    "reg.score(X_train, y_train)"
   ]
  },
  {
   "cell_type": "code",
   "execution_count": 16,
   "metadata": {},
   "outputs": [
    {
     "output_type": "stream",
     "name": "stderr",
     "text": [
      "[Parallel(n_jobs=1)]: Using backend SequentialBackend with 1 concurrent workers.\n[Parallel(n_jobs=1)]: Done 100 out of 100 | elapsed:    0.0s finished\n"
     ]
    }
   ],
   "source": [
    "y_predictions = reg.predict(X_test)"
   ]
  },
  {
   "cell_type": "code",
   "execution_count": 18,
   "metadata": {},
   "outputs": [],
   "source": [
    "from sklearn.metrics import r2_score"
   ]
  },
  {
   "cell_type": "code",
   "execution_count": 20,
   "metadata": {},
   "outputs": [],
   "source": [
    "rsquare = r2_score(y_test, y_predictions)"
   ]
  },
  {
   "cell_type": "code",
   "execution_count": 22,
   "metadata": {},
   "outputs": [
    {
     "output_type": "stream",
     "name": "stdout",
     "text": [
      "Value for rsquare is 0.9722337968809527\n"
     ]
    }
   ],
   "source": [
    "print(f'Value for rsquare is {rsquare}')"
   ]
  },
  {
   "cell_type": "code",
   "execution_count": 24,
   "metadata": {},
   "outputs": [],
   "source": [
    "from sklearn.metrics import mean_squared_error as MSE"
   ]
  },
  {
   "cell_type": "code",
   "execution_count": 26,
   "metadata": {},
   "outputs": [
    {
     "output_type": "stream",
     "name": "stdout",
     "text": [
      "Value for Root Mean Square Error is : 401.4823455561136\n"
     ]
    }
   ],
   "source": [
    "rmse = np.sqrt(MSE(y_test, y_predictions))\n",
    "print(f'Value for Root Mean Square Error is : {rmse}')"
   ]
  },
  {
   "cell_type": "code",
   "execution_count": 28,
   "metadata": {},
   "outputs": [
    {
     "output_type": "stream",
     "name": "stderr",
     "text": [
      "[Parallel(n_jobs=1)]: Using backend SequentialBackend with 1 concurrent workers.\n",
      "[Parallel(n_jobs=1)]: Done 100 out of 100 | elapsed:    0.0s finished\n"
     ]
    }
   ],
   "source": [
    "predictions = reg.predict(test)"
   ]
  },
  {
   "cell_type": "code",
   "execution_count": 30,
   "metadata": {},
   "outputs": [
    {
     "output_type": "execute_result",
     "data": {
      "text/plain": [
       "array([3177.19364747, 1858.4582541 , 9915.42278271, ..., 6638.18057495,\n",
       "       3483.68720034, 2612.60858121])"
      ]
     },
     "metadata": {},
     "execution_count": 30
    }
   ],
   "source": [
    "predictions"
   ]
  },
  {
   "cell_type": "code",
   "execution_count": 32,
   "metadata": {},
   "outputs": [],
   "source": [
    "data = pd.read_csv('dataset/test.csv')\n",
    "predictions_test = data['Product_id']"
   ]
  },
  {
   "cell_type": "code",
   "execution_count": 34,
   "metadata": {},
   "outputs": [
    {
     "output_type": "stream",
     "name": "stderr",
     "text": [
      "[Parallel(n_jobs=1)]: Using backend SequentialBackend with 1 concurrent workers.\n[Parallel(n_jobs=1)]: Done 100 out of 100 | elapsed:    0.0s finished\n"
     ]
    },
    {
     "output_type": "execute_result",
     "data": {
      "text/plain": [
       "array([3177.19364747, 1858.4582541 , 9915.42278271, ..., 6638.18057495,\n",
       "       3483.68720034, 2612.60858121])"
      ]
     },
     "metadata": {},
     "execution_count": 34
    }
   ],
   "source": [
    "tests = reg.predict(test)\n",
    "tests"
   ]
  },
  {
   "cell_type": "code",
   "execution_count": 38,
   "metadata": {},
   "outputs": [],
   "source": [
    "submission_df = pd.DataFrame()\n",
    "submission_df[\"Product_id\"] = predictions_test\n",
    "\n",
    "submission_df[\"Selling_Price\"] = tests\n",
    "submission_df.Selling_Price = np.where(submission_df.Selling_Price < 0, 0, submission_df.Selling_Price)"
   ]
  },
  {
   "cell_type": "code",
   "execution_count": 40,
   "metadata": {},
   "outputs": [
    {
     "output_type": "execute_result",
     "data": {
      "text/plain": [
       "         Product_id  Selling_Price\n",
       "0  SCHE4YSTDVPVZVXW    3177.193647\n",
       "1  ACCEGCATKHNRXUHW    1858.458254\n",
       "2  NKCE6GJ5XVJDXNNZ    9915.422783\n",
       "3  NKCEB8BK3ZXDHDHM    9247.639580\n",
       "4  TOPEFDXSAHRNPF94    5575.240944"
      ],
      "text/html": "<div>\n<style scoped>\n    .dataframe tbody tr th:only-of-type {\n        vertical-align: middle;\n    }\n\n    .dataframe tbody tr th {\n        vertical-align: top;\n    }\n\n    .dataframe thead th {\n        text-align: right;\n    }\n</style>\n<table border=\"1\" class=\"dataframe\">\n  <thead>\n    <tr style=\"text-align: right;\">\n      <th></th>\n      <th>Product_id</th>\n      <th>Selling_Price</th>\n    </tr>\n  </thead>\n  <tbody>\n    <tr>\n      <th>0</th>\n      <td>SCHE4YSTDVPVZVXW</td>\n      <td>3177.193647</td>\n    </tr>\n    <tr>\n      <th>1</th>\n      <td>ACCEGCATKHNRXUHW</td>\n      <td>1858.458254</td>\n    </tr>\n    <tr>\n      <th>2</th>\n      <td>NKCE6GJ5XVJDXNNZ</td>\n      <td>9915.422783</td>\n    </tr>\n    <tr>\n      <th>3</th>\n      <td>NKCEB8BK3ZXDHDHM</td>\n      <td>9247.639580</td>\n    </tr>\n    <tr>\n      <th>4</th>\n      <td>TOPEFDXSAHRNPF94</td>\n      <td>5575.240944</td>\n    </tr>\n  </tbody>\n</table>\n</div>"
     },
     "metadata": {},
     "execution_count": 40
    }
   ],
   "source": [
    "submission_df.to_csv(\"final_dataset/Submission.csv\")\n",
    "submission_df.head()"
   ]
  }
 ]
}